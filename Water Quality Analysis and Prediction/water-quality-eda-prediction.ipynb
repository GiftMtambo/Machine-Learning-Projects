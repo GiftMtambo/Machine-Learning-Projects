{
 "cells": [
  {
   "cell_type": "markdown",
   "metadata": {},
   "source": [
    "# WATER QUALITY ANALYSIS AND PREDICTION\n",
    "\n"
   ]
  },
  {
   "cell_type": "markdown",
   "metadata": {},
   "source": [
    "![](waterquality.jpg)"
   ]
  },
  {
   "cell_type": "code",
   "execution_count": 1,
   "metadata": {
    "_cell_guid": "b1076dfc-b9ad-4769-8c92-a6c4dae69d19",
    "_uuid": "8f2839f25d086af736a60e9eeb907d3b93b6e0e5",
    "execution": {
     "iopub.execute_input": "2021-08-09T08:46:04.428879Z",
     "iopub.status.busy": "2021-08-09T08:46:04.428334Z",
     "iopub.status.idle": "2021-08-09T08:46:05.857373Z",
     "shell.execute_reply": "2021-08-09T08:46:05.856322Z",
     "shell.execute_reply.started": "2021-08-09T08:46:04.428764Z"
    }
   },
   "outputs": [
    {
     "ename": "ModuleNotFoundError",
     "evalue": "No module named 'xgboost'",
     "output_type": "error",
     "traceback": [
      "\u001b[1;31m---------------------------------------------------------------------------\u001b[0m",
      "\u001b[1;31mModuleNotFoundError\u001b[0m                       Traceback (most recent call last)",
      "\u001b[1;32m<ipython-input-1-c1242d90b1b5>\u001b[0m in \u001b[0;36m<module>\u001b[1;34m\u001b[0m\n\u001b[0;32m     12\u001b[0m \u001b[1;32mfrom\u001b[0m \u001b[0msklearn\u001b[0m\u001b[1;33m.\u001b[0m\u001b[0mneighbors\u001b[0m \u001b[1;32mimport\u001b[0m \u001b[0mKNeighborsClassifier\u001b[0m\u001b[1;33m\u001b[0m\u001b[1;33m\u001b[0m\u001b[0m\n\u001b[0;32m     13\u001b[0m \u001b[1;32mfrom\u001b[0m \u001b[0msklearn\u001b[0m\u001b[1;33m.\u001b[0m\u001b[0msvm\u001b[0m \u001b[1;32mimport\u001b[0m \u001b[0mSVC\u001b[0m\u001b[1;33m\u001b[0m\u001b[1;33m\u001b[0m\u001b[0m\n\u001b[1;32m---> 14\u001b[1;33m \u001b[1;32mfrom\u001b[0m \u001b[0mxgboost\u001b[0m\u001b[1;33m.\u001b[0m\u001b[0msklearn\u001b[0m \u001b[1;32mimport\u001b[0m \u001b[0mXGBClassifier\u001b[0m\u001b[1;33m\u001b[0m\u001b[1;33m\u001b[0m\u001b[0m\n\u001b[0m\u001b[0;32m     15\u001b[0m \u001b[1;32mfrom\u001b[0m \u001b[0msklearn\u001b[0m\u001b[1;33m.\u001b[0m\u001b[0mmetrics\u001b[0m \u001b[1;32mimport\u001b[0m \u001b[0maccuracy_score\u001b[0m\u001b[1;33m,\u001b[0m \u001b[0mconfusion_matrix\u001b[0m\u001b[1;33m,\u001b[0m \u001b[0mclassification_report\u001b[0m\u001b[1;33m\u001b[0m\u001b[1;33m\u001b[0m\u001b[0m\n\u001b[0;32m     16\u001b[0m \u001b[1;33m\u001b[0m\u001b[0m\n",
      "\u001b[1;31mModuleNotFoundError\u001b[0m: No module named 'xgboost'"
     ]
    }
   ],
   "source": [
    "# This Python 3 environment comes with many helpful analytics libraries installed\n",
    "# It is defined by the kaggle/python Docker image: https://github.com/kaggle/docker-python\n",
    "# For example, here's several helpful packages to load\n",
    "import numpy as np\n",
    "import pandas as pd\n",
    "import matplotlib.pyplot as plt\n",
    "import seaborn as sns\n",
    "from sklearn.model_selection import train_test_split as tts\n",
    "from sklearn.linear_model import LogisticRegression\n",
    "from sklearn.tree import DecisionTreeRegressor\n",
    "from sklearn.ensemble import RandomForestClassifier\n",
    "from sklearn.neighbors import KNeighborsClassifier\n",
    "from sklearn.svm import SVC\n",
    "from xgboost.sklearn import XGBClassifier\n",
    "from sklearn.metrics import accuracy_score, confusion_matrix, classification_report\n",
    "\n",
    "# You can write up to 20GB to the current directory (/kaggle/working/) that gets preserved as output when you create a version using \"Save & Run All\" \n",
    "# You can also write temporary files to /kaggle/temp/, but they won't be saved outside of the current session"
   ]
  },
  {
   "cell_type": "code",
   "execution_count": null,
   "metadata": {},
   "outputs": [],
   "source": []
  },
  {
   "cell_type": "code",
   "execution_count": null,
   "metadata": {
    "execution": {
     "iopub.execute_input": "2021-08-09T08:47:27.569712Z",
     "iopub.status.busy": "2021-08-09T08:47:27.569277Z",
     "iopub.status.idle": "2021-08-09T08:47:27.6355Z",
     "shell.execute_reply": "2021-08-09T08:47:27.634811Z",
     "shell.execute_reply.started": "2021-08-09T08:47:27.569679Z"
    }
   },
   "outputs": [],
   "source": [
    "df = pd.read_csv('../input/water-potability/water_potability.csv')\n",
    "df.head()"
   ]
  },
  {
   "cell_type": "code",
   "execution_count": null,
   "metadata": {
    "execution": {
     "iopub.execute_input": "2021-08-09T08:47:45.893567Z",
     "iopub.status.busy": "2021-08-09T08:47:45.89308Z",
     "iopub.status.idle": "2021-08-09T08:47:46.828688Z",
     "shell.execute_reply": "2021-08-09T08:47:46.827998Z",
     "shell.execute_reply.started": "2021-08-09T08:47:45.893533Z"
    }
   },
   "outputs": [],
   "source": [
    "plt.figure(figsize=(10,5))\n",
    "sns.heatmap(df.corr(),annot=True, cmap=\"RdPu\",fmt='.3f',linewidths=.8)"
   ]
  },
  {
   "cell_type": "code",
   "execution_count": null,
   "metadata": {
    "execution": {
     "iopub.execute_input": "2021-08-09T08:53:28.942861Z",
     "iopub.status.busy": "2021-08-09T08:53:28.942519Z",
     "iopub.status.idle": "2021-08-09T08:53:28.956589Z",
     "shell.execute_reply": "2021-08-09T08:53:28.955103Z",
     "shell.execute_reply.started": "2021-08-09T08:53:28.942833Z"
    }
   },
   "outputs": [],
   "source": [
    "dup = df.duplicated().sum()\n",
    "print('Any Duplicate Value:',dup)"
   ]
  },
  {
   "cell_type": "code",
   "execution_count": null,
   "metadata": {
    "execution": {
     "iopub.execute_input": "2021-08-09T08:49:18.153622Z",
     "iopub.status.busy": "2021-08-09T08:49:18.153274Z",
     "iopub.status.idle": "2021-08-09T08:49:18.165729Z",
     "shell.execute_reply": "2021-08-09T08:49:18.16439Z",
     "shell.execute_reply.started": "2021-08-09T08:49:18.153591Z"
    }
   },
   "outputs": [],
   "source": [
    "df.isnull().sum()"
   ]
  },
  {
   "cell_type": "code",
   "execution_count": null,
   "metadata": {
    "execution": {
     "iopub.execute_input": "2021-08-09T08:49:40.133968Z",
     "iopub.status.busy": "2021-08-09T08:49:40.133514Z",
     "iopub.status.idle": "2021-08-09T08:49:40.144722Z",
     "shell.execute_reply": "2021-08-09T08:49:40.143549Z",
     "shell.execute_reply.started": "2021-08-09T08:49:40.133915Z"
    }
   },
   "outputs": [],
   "source": [
    "df[\"ph\"].fillna(value = df[\"ph\"].mean(), inplace = True)\n",
    "df[\"Sulfate\"].fillna(value = df[\"Sulfate\"].mean(), inplace = True)\n",
    "df[\"Trihalomethanes\"].fillna(value = df[\"Trihalomethanes\"].mean(), inplace = True)"
   ]
  },
  {
   "cell_type": "code",
   "execution_count": null,
   "metadata": {
    "execution": {
     "iopub.execute_input": "2021-08-09T08:49:54.604686Z",
     "iopub.status.busy": "2021-08-09T08:49:54.604275Z",
     "iopub.status.idle": "2021-08-09T08:49:54.615954Z",
     "shell.execute_reply": "2021-08-09T08:49:54.614757Z",
     "shell.execute_reply.started": "2021-08-09T08:49:54.604651Z"
    }
   },
   "outputs": [],
   "source": [
    "df.isnull().sum()"
   ]
  },
  {
   "cell_type": "code",
   "execution_count": null,
   "metadata": {
    "execution": {
     "iopub.execute_input": "2021-08-09T08:54:12.342668Z",
     "iopub.status.busy": "2021-08-09T08:54:12.342317Z",
     "iopub.status.idle": "2021-08-09T08:54:12.361526Z",
     "shell.execute_reply": "2021-08-09T08:54:12.360407Z",
     "shell.execute_reply.started": "2021-08-09T08:54:12.34264Z"
    }
   },
   "outputs": [],
   "source": [
    "df.head()"
   ]
  },
  {
   "cell_type": "code",
   "execution_count": null,
   "metadata": {
    "execution": {
     "iopub.execute_input": "2021-08-09T08:50:11.338262Z",
     "iopub.status.busy": "2021-08-09T08:50:11.33787Z",
     "iopub.status.idle": "2021-08-09T08:50:11.942015Z",
     "shell.execute_reply": "2021-08-09T08:50:11.94056Z",
     "shell.execute_reply.started": "2021-08-09T08:50:11.338227Z"
    }
   },
   "outputs": [],
   "source": [
    "plt.rcParams['figure.figsize'] = [7,5]\n",
    "sns.distplot(df['Potability'])"
   ]
  },
  {
   "cell_type": "code",
   "execution_count": null,
   "metadata": {
    "execution": {
     "iopub.execute_input": "2021-08-09T08:54:31.863531Z",
     "iopub.status.busy": "2021-08-09T08:54:31.863131Z",
     "iopub.status.idle": "2021-08-09T08:54:54.14633Z",
     "shell.execute_reply": "2021-08-09T08:54:54.145078Z",
     "shell.execute_reply.started": "2021-08-09T08:54:31.863498Z"
    }
   },
   "outputs": [],
   "source": [
    "sns.pairplot(data = df)"
   ]
  },
  {
   "cell_type": "code",
   "execution_count": null,
   "metadata": {
    "execution": {
     "iopub.execute_input": "2021-08-09T08:55:21.713047Z",
     "iopub.status.busy": "2021-08-09T08:55:21.712614Z",
     "iopub.status.idle": "2021-08-09T08:55:21.720445Z",
     "shell.execute_reply": "2021-08-09T08:55:21.719114Z",
     "shell.execute_reply.started": "2021-08-09T08:55:21.713011Z"
    }
   },
   "outputs": [],
   "source": [
    "x = df.drop(['Potability'],axis=True)\n",
    "y = df['Potability']"
   ]
  },
  {
   "cell_type": "markdown",
   "metadata": {},
   "source": [
    "# **Split and Train the model**"
   ]
  },
  {
   "cell_type": "code",
   "execution_count": null,
   "metadata": {
    "execution": {
     "iopub.execute_input": "2021-08-09T08:55:37.253109Z",
     "iopub.status.busy": "2021-08-09T08:55:37.252668Z",
     "iopub.status.idle": "2021-08-09T08:55:37.262898Z",
     "shell.execute_reply": "2021-08-09T08:55:37.261552Z",
     "shell.execute_reply.started": "2021-08-09T08:55:37.253073Z"
    }
   },
   "outputs": [],
   "source": [
    "x_train,x_test,y_train,y_test = tts(x,y,test_size=0.32, random_state = 50)"
   ]
  },
  {
   "cell_type": "code",
   "execution_count": null,
   "metadata": {
    "execution": {
     "iopub.execute_input": "2021-08-09T08:55:48.57377Z",
     "iopub.status.busy": "2021-08-09T08:55:48.573195Z",
     "iopub.status.idle": "2021-08-09T08:55:48.609959Z",
     "shell.execute_reply": "2021-08-09T08:55:48.609167Z",
     "shell.execute_reply.started": "2021-08-09T08:55:48.573732Z"
    }
   },
   "outputs": [],
   "source": [
    "print(x.describe(),\"\\n\",\"\\n\", y.describe())"
   ]
  },
  {
   "cell_type": "markdown",
   "metadata": {},
   "source": [
    "# **Logistic Regression**"
   ]
  },
  {
   "cell_type": "code",
   "execution_count": null,
   "metadata": {
    "execution": {
     "iopub.execute_input": "2021-08-09T08:57:20.703716Z",
     "iopub.status.busy": "2021-08-09T08:57:20.703332Z",
     "iopub.status.idle": "2021-08-09T08:57:24.001001Z",
     "shell.execute_reply": "2021-08-09T08:57:23.998817Z",
     "shell.execute_reply.started": "2021-08-09T08:57:20.703684Z"
    }
   },
   "outputs": [],
   "source": [
    "logi = LogisticRegression(max_iter = 120, random_state=0,n_jobs=20)\n",
    "logi.fit(x_train,y_train)\n",
    "predlogi_y = logi.predict(x_test)"
   ]
  },
  {
   "cell_type": "code",
   "execution_count": null,
   "metadata": {
    "execution": {
     "iopub.execute_input": "2021-08-09T08:57:31.274207Z",
     "iopub.status.busy": "2021-08-09T08:57:31.273747Z",
     "iopub.status.idle": "2021-08-09T08:57:31.282487Z",
     "shell.execute_reply": "2021-08-09T08:57:31.281052Z",
     "shell.execute_reply.started": "2021-08-09T08:57:31.274168Z"
    }
   },
   "outputs": [],
   "source": [
    "Acc= accuracy_score(predlogi_y,y_test)\n",
    "print( Acc)"
   ]
  },
  {
   "cell_type": "code",
   "execution_count": null,
   "metadata": {
    "execution": {
     "iopub.execute_input": "2021-08-09T08:57:41.79868Z",
     "iopub.status.busy": "2021-08-09T08:57:41.798263Z",
     "iopub.status.idle": "2021-08-09T08:57:41.816545Z",
     "shell.execute_reply": "2021-08-09T08:57:41.815076Z",
     "shell.execute_reply.started": "2021-08-09T08:57:41.798645Z"
    }
   },
   "outputs": [],
   "source": [
    "print(classification_report(y_test,predlogi_y))"
   ]
  },
  {
   "cell_type": "markdown",
   "metadata": {},
   "source": [
    "# **Random Forest Classifier**"
   ]
  },
  {
   "cell_type": "code",
   "execution_count": null,
   "metadata": {
    "execution": {
     "iopub.execute_input": "2021-08-09T08:58:42.698976Z",
     "iopub.status.busy": "2021-08-09T08:58:42.698605Z",
     "iopub.status.idle": "2021-08-09T08:58:43.552532Z",
     "shell.execute_reply": "2021-08-09T08:58:43.551415Z",
     "shell.execute_reply.started": "2021-08-09T08:58:42.69892Z"
    }
   },
   "outputs": [],
   "source": [
    "RFC = RandomForestClassifier()\n",
    "RFC.fit(x_train,y_train)\n",
    "y_RFC = RFC.predict(x_test)"
   ]
  },
  {
   "cell_type": "code",
   "execution_count": null,
   "metadata": {
    "execution": {
     "iopub.execute_input": "2021-08-09T08:58:52.734098Z",
     "iopub.status.busy": "2021-08-09T08:58:52.73348Z",
     "iopub.status.idle": "2021-08-09T08:58:52.740245Z",
     "shell.execute_reply": "2021-08-09T08:58:52.73931Z",
     "shell.execute_reply.started": "2021-08-09T08:58:52.734028Z"
    }
   },
   "outputs": [],
   "source": [
    "Acc_rfc= accuracy_score(y_RFC,y_test)\n",
    "print( Acc_rfc)"
   ]
  },
  {
   "cell_type": "code",
   "execution_count": null,
   "metadata": {
    "execution": {
     "iopub.execute_input": "2021-08-09T08:59:10.119075Z",
     "iopub.status.busy": "2021-08-09T08:59:10.118424Z",
     "iopub.status.idle": "2021-08-09T08:59:10.130569Z",
     "shell.execute_reply": "2021-08-09T08:59:10.129592Z",
     "shell.execute_reply.started": "2021-08-09T08:59:10.119018Z"
    }
   },
   "outputs": [],
   "source": [
    "print(classification_report(y_RFC,y_test))"
   ]
  },
  {
   "cell_type": "code",
   "execution_count": null,
   "metadata": {
    "execution": {
     "iopub.execute_input": "2021-08-09T08:59:28.074449Z",
     "iopub.status.busy": "2021-08-09T08:59:28.073778Z",
     "iopub.status.idle": "2021-08-09T08:59:28.336366Z",
     "shell.execute_reply": "2021-08-09T08:59:28.335365Z",
     "shell.execute_reply.started": "2021-08-09T08:59:28.074392Z"
    }
   },
   "outputs": [],
   "source": [
    "cmr= confusion_matrix(y_test,y_RFC)\n",
    "sns.heatmap(cmr/np.sum(cmr), annot= True, fmt= '0.2%', cmap= 'coolwarm')"
   ]
  },
  {
   "cell_type": "markdown",
   "metadata": {},
   "source": [
    "# **Decision Tree**"
   ]
  },
  {
   "cell_type": "code",
   "execution_count": null,
   "metadata": {
    "execution": {
     "iopub.execute_input": "2021-08-09T09:00:29.508864Z",
     "iopub.status.busy": "2021-08-09T09:00:29.508484Z",
     "iopub.status.idle": "2021-08-09T09:00:29.541909Z",
     "shell.execute_reply": "2021-08-09T09:00:29.54081Z",
     "shell.execute_reply.started": "2021-08-09T09:00:29.50883Z"
    }
   },
   "outputs": [],
   "source": [
    "DTR = DecisionTreeRegressor()\n",
    "DTR.fit(x_train,y_train)\n",
    "y_pred = DTR.predict(x_test)"
   ]
  },
  {
   "cell_type": "code",
   "execution_count": null,
   "metadata": {
    "execution": {
     "iopub.execute_input": "2021-08-09T09:00:39.347866Z",
     "iopub.status.busy": "2021-08-09T09:00:39.34752Z",
     "iopub.status.idle": "2021-08-09T09:00:39.355463Z",
     "shell.execute_reply": "2021-08-09T09:00:39.354014Z",
     "shell.execute_reply.started": "2021-08-09T09:00:39.347836Z"
    }
   },
   "outputs": [],
   "source": [
    "Acc_dt= accuracy_score(y_pred,y_test)\n",
    "print( Acc_dt)"
   ]
  },
  {
   "cell_type": "code",
   "execution_count": null,
   "metadata": {
    "execution": {
     "iopub.execute_input": "2021-08-09T09:00:49.133378Z",
     "iopub.status.busy": "2021-08-09T09:00:49.133013Z",
     "iopub.status.idle": "2021-08-09T09:00:49.148434Z",
     "shell.execute_reply": "2021-08-09T09:00:49.147133Z",
     "shell.execute_reply.started": "2021-08-09T09:00:49.133348Z"
    }
   },
   "outputs": [],
   "source": [
    "print(classification_report(y_pred,y_test))"
   ]
  },
  {
   "cell_type": "code",
   "execution_count": null,
   "metadata": {
    "execution": {
     "iopub.execute_input": "2021-08-09T09:01:04.114136Z",
     "iopub.status.busy": "2021-08-09T09:01:04.113772Z",
     "iopub.status.idle": "2021-08-09T09:01:04.127702Z",
     "shell.execute_reply": "2021-08-09T09:01:04.126202Z",
     "shell.execute_reply.started": "2021-08-09T09:01:04.114106Z"
    }
   },
   "outputs": [],
   "source": [
    "print(classification_report(y_pred,y_test))"
   ]
  },
  {
   "cell_type": "code",
   "execution_count": null,
   "metadata": {
    "execution": {
     "iopub.execute_input": "2021-08-09T09:01:26.938903Z",
     "iopub.status.busy": "2021-08-09T09:01:26.938489Z",
     "iopub.status.idle": "2021-08-09T09:01:27.265734Z",
     "shell.execute_reply": "2021-08-09T09:01:27.264483Z",
     "shell.execute_reply.started": "2021-08-09T09:01:26.938869Z"
    }
   },
   "outputs": [],
   "source": [
    "cmd= confusion_matrix(y_test,y_pred)\n",
    "sns.heatmap(cmd/np.sum(cmd), annot= True, fmt= '0.2%', cmap= 'twilight_shifted')"
   ]
  },
  {
   "cell_type": "markdown",
   "metadata": {},
   "source": [
    "# **XGBoost Classifier**"
   ]
  },
  {
   "cell_type": "code",
   "execution_count": null,
   "metadata": {
    "execution": {
     "iopub.execute_input": "2021-08-09T09:02:11.723748Z",
     "iopub.status.busy": "2021-08-09T09:02:11.723345Z",
     "iopub.status.idle": "2021-08-09T09:02:12.875069Z",
     "shell.execute_reply": "2021-08-09T09:02:12.873742Z",
     "shell.execute_reply.started": "2021-08-09T09:02:11.723715Z"
    }
   },
   "outputs": [],
   "source": [
    "Xgb = XGBClassifier(max_depth= 8,n_estimators= 125, random_state= 0, learning_rate= 0.03, n_jobs= 5)\n",
    "Xgb.fit(x_train,y_train)\n",
    "pred_Xgb =Xgb.predict(x_test)"
   ]
  },
  {
   "cell_type": "code",
   "execution_count": null,
   "metadata": {
    "execution": {
     "iopub.execute_input": "2021-08-09T09:02:30.693876Z",
     "iopub.status.busy": "2021-08-09T09:02:30.693495Z",
     "iopub.status.idle": "2021-08-09T09:02:30.70064Z",
     "shell.execute_reply": "2021-08-09T09:02:30.699383Z",
     "shell.execute_reply.started": "2021-08-09T09:02:30.693845Z"
    }
   },
   "outputs": [],
   "source": [
    "Xgb_ACC = accuracy_score(y_test,pred_Xgb)\n",
    "print(Xgb_ACC)"
   ]
  },
  {
   "cell_type": "code",
   "execution_count": null,
   "metadata": {
    "execution": {
     "iopub.execute_input": "2021-08-09T09:02:53.343895Z",
     "iopub.status.busy": "2021-08-09T09:02:53.343252Z",
     "iopub.status.idle": "2021-08-09T09:02:53.356717Z",
     "shell.execute_reply": "2021-08-09T09:02:53.3553Z",
     "shell.execute_reply.started": "2021-08-09T09:02:53.34384Z"
    }
   },
   "outputs": [],
   "source": [
    "print(classification_report(y_test, pred_Xgb))"
   ]
  },
  {
   "cell_type": "code",
   "execution_count": null,
   "metadata": {
    "execution": {
     "iopub.execute_input": "2021-08-09T09:03:07.39286Z",
     "iopub.status.busy": "2021-08-09T09:03:07.392504Z",
     "iopub.status.idle": "2021-08-09T09:03:07.692199Z",
     "shell.execute_reply": "2021-08-09T09:03:07.690842Z",
     "shell.execute_reply.started": "2021-08-09T09:03:07.392829Z"
    }
   },
   "outputs": [],
   "source": [
    "cmx = confusion_matrix(y_test,pred_Xgb)\n",
    "sns.heatmap(cmx/np.sum(cmx), annot= True, fmt= '0.2%', cmap= 'Reds')"
   ]
  },
  {
   "cell_type": "markdown",
   "metadata": {},
   "source": [
    "# **KNeighbours**"
   ]
  },
  {
   "cell_type": "code",
   "execution_count": null,
   "metadata": {
    "execution": {
     "iopub.execute_input": "2021-08-09T09:04:04.048434Z",
     "iopub.status.busy": "2021-08-09T09:04:04.048088Z",
     "iopub.status.idle": "2021-08-09T09:04:04.109052Z",
     "shell.execute_reply": "2021-08-09T09:04:04.107795Z",
     "shell.execute_reply.started": "2021-08-09T09:04:04.048405Z"
    }
   },
   "outputs": [],
   "source": [
    "Kn = KNeighborsClassifier(n_neighbors= 9, leaf_size = 20)\n",
    "Kn.fit(x_train,y_train)\n",
    "pred_Kn =Kn.predict(x_test)"
   ]
  },
  {
   "cell_type": "code",
   "execution_count": null,
   "metadata": {
    "execution": {
     "iopub.execute_input": "2021-08-09T09:04:13.85798Z",
     "iopub.status.busy": "2021-08-09T09:04:13.857613Z",
     "iopub.status.idle": "2021-08-09T09:04:13.864552Z",
     "shell.execute_reply": "2021-08-09T09:04:13.8631Z",
     "shell.execute_reply.started": "2021-08-09T09:04:13.857923Z"
    }
   },
   "outputs": [],
   "source": [
    "Kn_ACC = accuracy_score(y_test,pred_Kn)\n",
    "print(Kn_ACC)"
   ]
  },
  {
   "cell_type": "code",
   "execution_count": null,
   "metadata": {
    "execution": {
     "iopub.execute_input": "2021-08-09T09:04:23.743106Z",
     "iopub.status.busy": "2021-08-09T09:04:23.742709Z",
     "iopub.status.idle": "2021-08-09T09:04:23.757981Z",
     "shell.execute_reply": "2021-08-09T09:04:23.756719Z",
     "shell.execute_reply.started": "2021-08-09T09:04:23.743074Z"
    }
   },
   "outputs": [],
   "source": [
    "print(classification_report(y_test, pred_Kn))"
   ]
  },
  {
   "cell_type": "code",
   "execution_count": null,
   "metadata": {
    "execution": {
     "iopub.execute_input": "2021-08-09T09:04:35.088129Z",
     "iopub.status.busy": "2021-08-09T09:04:35.08768Z",
     "iopub.status.idle": "2021-08-09T09:04:35.358764Z",
     "shell.execute_reply": "2021-08-09T09:04:35.357767Z",
     "shell.execute_reply.started": "2021-08-09T09:04:35.088093Z"
    }
   },
   "outputs": [],
   "source": [
    "cmk = confusion_matrix(y_test,pred_Kn)\n",
    "sns.heatmap(cmk/np.sum(cmk), annot= True, fmt= '0.2%', cmap= 'Blues')"
   ]
  },
  {
   "cell_type": "markdown",
   "metadata": {},
   "source": [
    "# **Final Report**"
   ]
  },
  {
   "cell_type": "code",
   "execution_count": null,
   "metadata": {
    "execution": {
     "iopub.execute_input": "2021-08-09T09:05:50.664035Z",
     "iopub.status.busy": "2021-08-09T09:05:50.663595Z",
     "iopub.status.idle": "2021-08-09T09:05:50.680296Z",
     "shell.execute_reply": "2021-08-09T09:05:50.679539Z",
     "shell.execute_reply.started": "2021-08-09T09:05:50.664Z"
    }
   },
   "outputs": [],
   "source": [
    "models = pd.DataFrame({\"Model\":['Logistic','Random Forest','Decision Tree','XGBoost','KNeighbours'],\n",
    "           \"Accuracy\":[Acc,Acc_rfc,Acc_dt,Xgb_ACC,Kn_ACC]})#Creat Data.....\n",
    "models.sort_values(by='Accuracy', ascending=False)#Show the Higher to lower value order...."
   ]
  },
  {
   "cell_type": "code",
   "execution_count": null,
   "metadata": {
    "execution": {
     "iopub.execute_input": "2021-08-09T09:32:19.614271Z",
     "iopub.status.busy": "2021-08-09T09:32:19.613818Z",
     "iopub.status.idle": "2021-08-09T09:32:19.626299Z",
     "shell.execute_reply": "2021-08-09T09:32:19.625429Z",
     "shell.execute_reply.started": "2021-08-09T09:32:19.614232Z"
    }
   },
   "outputs": [],
   "source": [
    "output = pd.DataFrame({\"Model\":['Logistic','Random Forest','Decision Tree','XGBoost','KNeighbours'],\n",
    "           \"Accuracy\":[Acc,Acc_rfc,Acc_dt,Xgb_ACC,Kn_ACC]})\n",
    "output.to_csv('Water Quality EDA & Prediction', index= False)# Save My Output........"
   ]
  },
  {
   "cell_type": "code",
   "execution_count": null,
   "metadata": {
    "execution": {
     "iopub.execute_input": "2021-08-09T09:32:54.763334Z",
     "iopub.status.busy": "2021-08-09T09:32:54.76293Z",
     "iopub.status.idle": "2021-08-09T09:32:54.779725Z",
     "shell.execute_reply": "2021-08-09T09:32:54.778401Z",
     "shell.execute_reply.started": "2021-08-09T09:32:54.763303Z"
    }
   },
   "outputs": [],
   "source": [
    "output.head()"
   ]
  },
  {
   "cell_type": "code",
   "execution_count": null,
   "metadata": {
    "execution": {
     "iopub.execute_input": "2021-08-09T09:06:11.333636Z",
     "iopub.status.busy": "2021-08-09T09:06:11.333251Z",
     "iopub.status.idle": "2021-08-09T09:06:11.532224Z",
     "shell.execute_reply": "2021-08-09T09:06:11.530906Z",
     "shell.execute_reply.started": "2021-08-09T09:06:11.333601Z"
    }
   },
   "outputs": [],
   "source": [
    "sns.barplot(x= 'Accuracy', y= 'Model', data= models)"
   ]
  },
  {
   "cell_type": "markdown",
   "metadata": {},
   "source": [
    "# **--------------------------Conclusion----------------------------------**"
   ]
  },
  {
   "cell_type": "markdown",
   "metadata": {},
   "source": [
    "#  * **Here Random Forest has Achieved High Accuracy = 0.66%**\n",
    "![](https://miro.medium.com/max/1184/0*a00NU4E2ueW31mcE.png) "
   ]
  }
 ],
 "metadata": {
  "kernelspec": {
   "display_name": "Python 3",
   "language": "python",
   "name": "python3"
  },
  "language_info": {
   "codemirror_mode": {
    "name": "ipython",
    "version": 3
   },
   "file_extension": ".py",
   "mimetype": "text/x-python",
   "name": "python",
   "nbconvert_exporter": "python",
   "pygments_lexer": "ipython3",
   "version": "3.8.8"
  }
 },
 "nbformat": 4,
 "nbformat_minor": 4
}
